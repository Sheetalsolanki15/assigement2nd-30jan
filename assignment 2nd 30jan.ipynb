{
 "cells": [
  {
   "cell_type": "markdown",
   "id": "196303b4-b84f-4f20-a21c-f4d5024e2521",
   "metadata": {},
   "source": [
    "write a program to accept persentage from the user and display the grade according to the following\n",
    "\n",
    "marks                grade\n",
    ">90                  A\n",
    ">80                  B\n",
    ">=60 and <=80        C\n",
    "below 60             D\n",
    "\n",
    "\n",
    "\n"
   ]
  },
  {
   "cell_type": "code",
   "execution_count": null,
   "id": "da935a7d-59ea-452a-a4f9-2c648c2f6a3b",
   "metadata": {},
   "outputs": [],
   "source": [
    "  marks=int(input(\"enter your marks\"))\n",
    "if marks>90:\n",
    "    print(\"Grade A\")\n",
    "elif marks>80 and marks<=90:\n",
    "    print(\"Grade B\")\n",
    "elif marks>=60 and marks<=80:\n",
    "    print(\"Grade C\")\n",
    "else:\n",
    "    print(\"Grade D\")"
   ]
  },
  {
   "cell_type": "markdown",
   "id": "6b9269ab-cdbf-4c3c-bbce-d26e1188d9e9",
   "metadata": {},
   "source": [
    "Ques2: write a program to the accept the price of a bike and display the road tax to the paid according to the following criteria:\n",
    "\n",
    "Tax                   cost price(in Rs)\n",
    "15%                     >100000\n",
    "10%                     >50000 and <=100000\n",
    "5%                      <=5000"
   ]
  },
  {
   "cell_type": "code",
   "execution_count": 10,
   "id": "f49bf111-0e21-4f86-872c-af017372fff7",
   "metadata": {},
   "outputs": [
    {
     "name": "stdin",
     "output_type": "stream",
     "text": [
      "enter your amount 6000\n"
     ]
    },
    {
     "name": "stdout",
     "output_type": "stream",
     "text": [
      "default\n"
     ]
    }
   ],
   "source": [
    "tax=int(input(\"enter your amount\"))\n",
    "if tax>100000:\n",
    "    print(\"tax 15%\")\n",
    "elif tax>50000 and tax<=100000:\n",
    "    print(\"tax 10%\")\n",
    "elif tax<=5000:\n",
    "    print(\"tax 5%\")\n",
    "else:\n",
    "    print(\"default\")\n",
    "\n",
    "    "
   ]
  },
  {
   "cell_type": "markdown",
   "id": "27222064-10e2-462c-8090-12ed8fb5ad42",
   "metadata": {},
   "source": [
    "\n",
    "Ques3: accept any city from the user display monuments of that city \n",
    "City                Monument\n",
    "Delhi               Red fort\n",
    "Agra                Taj Mahal\n",
    "Jaipur              Jal Mahal"
   ]
  },
  {
   "cell_type": "code",
   "execution_count": 20,
   "id": "41d581a8-5dbd-4c08-b9b2-5a86871f1d33",
   "metadata": {},
   "outputs": [
    {
     "name": "stdin",
     "output_type": "stream",
     "text": [
      "enter a city DELHI\n"
     ]
    },
    {
     "name": "stdout",
     "output_type": "stream",
     "text": [
      "Red fort\n"
     ]
    }
   ],
   "source": [
    "city=input(\"enter a city\")\n",
    "if city.upper()==\"DELHI\":\n",
    "    print(\"Red fort\")\n",
    "elif city.upper()==\"AGRA\":\n",
    "    print(\"Taj Mahal\")\n",
    "elif city.upper()==\"JAIPUR\":\n",
    "    print(\"Jalmahal\")\n",
    "else:\n",
    "    print(\"invalid\")"
   ]
  },
  {
   "cell_type": "markdown",
   "id": "2c008269-2d28-4d50-a299-c7a37856416b",
   "metadata": {},
   "source": [
    "Ques4:  check how many times a given number can be divided by a 3 before it is less than or equal to 10"
   ]
  },
  {
   "cell_type": "markdown",
   "id": "7e0c3f8c-c80f-45a0-b55b-f8a607e2f026",
   "metadata": {},
   "source": [
    "X"
   ]
  },
  {
   "cell_type": "markdown",
   "id": "47ecb316-858f-49e4-8b8f-d56180de4453",
   "metadata": {},
   "source": [
    "Ques5: why and when to use while loop in python give a detailed description with example"
   ]
  },
  {
   "cell_type": "markdown",
   "id": "ceaa899b-93fc-4ec3-b5fd-16c04b7fe41c",
   "metadata": {},
   "source": [
    "Ans:  Python while loop is used to run a block code until a certain condition is met.\n",
    "\n",
    "The syntax of while loop is:\n",
    "\n",
    "while condition:\n",
    "    # body of while loop\n",
    "Here,\n",
    "\n",
    "A while loop evaluates the condition\n",
    "If the condition evaluates to True, the code inside the while loop is executed.\n",
    "condition is evaluated again.\n",
    "This process continues until the condition is False.\n",
    "When condition evaluates to False, the loop stops."
   ]
  },
  {
   "cell_type": "markdown",
   "id": "859b1caf-6ea5-46d9-ad5d-835f667eb009",
   "metadata": {},
   "source": [
    "Ques6: Use nested while loop print 3 different pattern"
   ]
  },
  {
   "cell_type": "code",
   "execution_count": 1,
   "id": "e3ae6164-feb7-4c79-9436-e6156ae9e50d",
   "metadata": {},
   "outputs": [
    {
     "name": "stdout",
     "output_type": "stream",
     "text": [
      "0 1 2 3 \n",
      "0 2 4 6 \n",
      "0 3 6 9 \n",
      "0 4 8 12 \n"
     ]
    }
   ],
   "source": [
    "i=1\n",
    "while i <=4:\n",
    "    j=0\n",
    "    while j<=3:\n",
    "        print(i*j,end=\" \")\n",
    "        j+=1\n",
    "    print()\n",
    "    i +=1"
   ]
  },
  {
   "cell_type": "markdown",
   "id": "08d94d03-707a-478f-bb00-fa76f36c5d77",
   "metadata": {},
   "source": [
    "Ques7: Reverse a while loop to display number from 10 to 1"
   ]
  },
  {
   "cell_type": "code",
   "execution_count": 2,
   "id": "65472c55-a480-448d-b354-cc6b1015ac20",
   "metadata": {},
   "outputs": [
    {
     "name": "stdout",
     "output_type": "stream",
     "text": [
      "10\n",
      "9\n",
      "8\n",
      "7\n",
      "6\n",
      "5\n",
      "4\n",
      "3\n",
      "2\n",
      "1\n"
     ]
    }
   ],
   "source": [
    "i=10\n",
    "while i>0:\n",
    "    print(i)\n",
    "    i=i-1"
   ]
  },
  {
   "cell_type": "markdown",
   "id": "7fec952e-f1f2-4c49-a939-eeac51383b49",
   "metadata": {},
   "source": [
    "Ques8: wap to print number using while loop to display number from 1 to 10\n",
    "    \n"
   ]
  },
  {
   "cell_type": "code",
   "execution_count": null,
   "id": "415386c1-fed7-4988-8469-69ddd0158e21",
   "metadata": {},
   "outputs": [],
   "source": [
    "i=1\n",
    "while i<=10:\n",
    "    print(i)\n",
    "    i+"
   ]
  },
  {
   "cell_type": "code",
   "execution_count": null,
   "id": "b479f4e5-47d8-4027-878c-74f9695cfeca",
   "metadata": {},
   "outputs": [],
   "source": []
  }
 ],
 "metadata": {
  "kernelspec": {
   "display_name": "Python 3 (ipykernel)",
   "language": "python",
   "name": "python3"
  },
  "language_info": {
   "codemirror_mode": {
    "name": "ipython",
    "version": 3
   },
   "file_extension": ".py",
   "mimetype": "text/x-python",
   "name": "python",
   "nbconvert_exporter": "python",
   "pygments_lexer": "ipython3",
   "version": "3.10.8"
  }
 },
 "nbformat": 4,
 "nbformat_minor": 5
}
